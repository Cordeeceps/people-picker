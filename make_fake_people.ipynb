{
 "cells": [
  {
   "cell_type": "markdown",
   "metadata": {},
   "source": [
    "# Create some sample data\n",
    "\n",
    "Using Faker to create realistic-looking data. \n",
    "It will be in an array of 'people' in a JSON file so that it can be read using mongoImport."
   ]
  },
  {
   "cell_type": "code",
   "execution_count": 48,
   "metadata": {},
   "outputs": [],
   "source": [
    "import faker\n",
    "import json\n",
    "import random\n",
    "from datetime import datetime\n",
    "faker = faker.Faker()\n",
    "starting_id = 1000\n",
    "\n"
   ]
  },
  {
   "cell_type": "code",
   "execution_count": 53,
   "metadata": {},
   "outputs": [
    {
     "name": "stdout",
     "output_type": "stream",
     "text": [
      "[{'id': 1000, 'first': 'Stephen', 'last': 'Jones', 'email': 'acoleman@example.com', 'age': 46, 'imageUrl': 'https://randomuser.me/api/portraits/men/12.jpg'}, {'id': 1001, 'first': 'Shane', 'last': 'Lopez', 'email': 'thomas96@example.org', 'age': 30, 'imageUrl': 'https://randomuser.me/api/portraits/men/65.jpg'}, {'id': 1002, 'first': 'Cynthia', 'last': 'Jones', 'email': 'ortizjeffrey@example.org', 'age': 36, 'imageUrl': 'https://randomuser.me/api/portraits/women/55.jpg'}, {'id': 1003, 'first': 'Beth', 'last': 'Long', 'email': 'ymcneil@example.org', 'age': 40, 'imageUrl': 'https://randomuser.me/api/portraits/women/18.jpg'}, {'id': 1004, 'first': 'Laura', 'last': 'Sullivan', 'email': 'stewartsarah@example.net', 'age': 42, 'imageUrl': 'https://randomuser.me/api/portraits/women/63.jpg'}, {'id': 1005, 'first': 'Latoya', 'last': 'Miller', 'email': 'garciachristina@example.com', 'age': 36, 'imageUrl': 'https://randomuser.me/api/portraits/women/10.jpg'}, {'id': 1006, 'first': 'Michael', 'last': 'Harmon', 'email': 'yharvey@example.com', 'age': 48, 'imageUrl': 'https://randomuser.me/api/portraits/men/27.jpg'}, {'id': 1007, 'first': 'Tanya', 'last': 'Mathis', 'email': 'jonathanhamilton@example.org', 'age': 34, 'imageUrl': 'https://randomuser.me/api/portraits/women/11.jpg'}, {'id': 1008, 'first': 'Deborah', 'last': 'Doyle', 'email': 'qrussell@example.net', 'age': 28, 'imageUrl': 'https://randomuser.me/api/portraits/women/53.jpg'}, {'id': 1009, 'first': 'Jessica', 'last': 'Williams', 'email': 'ugreene@example.net', 'age': 34, 'imageUrl': 'https://randomuser.me/api/portraits/women/22.jpg'}, {'id': 1010, 'first': 'Jessica', 'last': 'Hogan', 'email': 'huntkathryn@example.com', 'age': 41, 'imageUrl': 'https://randomuser.me/api/portraits/women/26.jpg'}, {'id': 1011, 'first': 'Jordan', 'last': 'Crawford', 'email': 'bruce62@example.org', 'age': 37, 'imageUrl': 'https://randomuser.me/api/portraits/men/66.jpg'}, {'id': 1012, 'first': 'Lisa', 'last': 'Wall', 'email': 'stewartalicia@example.com', 'age': 36, 'imageUrl': 'https://randomuser.me/api/portraits/women/23.jpg'}, {'id': 1013, 'first': 'Seth', 'last': 'Ramirez', 'email': 'raymondjessica@example.com', 'age': 26, 'imageUrl': 'https://randomuser.me/api/portraits/men/62.jpg'}, {'id': 1014, 'first': 'Audrey', 'last': 'Mayo', 'email': 'kcook@example.net', 'age': 32, 'imageUrl': 'https://randomuser.me/api/portraits/women/1.jpg'}, {'id': 1015, 'first': 'Kevin', 'last': 'Li', 'email': 'tamara21@example.com', 'age': 25, 'imageUrl': 'https://randomuser.me/api/portraits/men/27.jpg'}, {'id': 1016, 'first': 'Grace', 'last': 'Phillips', 'email': 'newtonjeffrey@example.com', 'age': 44, 'imageUrl': 'https://randomuser.me/api/portraits/women/72.jpg'}, {'id': 1017, 'first': 'Jose', 'last': 'Collins', 'email': 'yrodriguez@example.net', 'age': 33, 'imageUrl': 'https://randomuser.me/api/portraits/men/70.jpg'}, {'id': 1018, 'first': 'Jose', 'last': 'Smith', 'email': 'roblesbrianna@example.net', 'age': 34, 'imageUrl': 'https://randomuser.me/api/portraits/men/28.jpg'}, {'id': 1019, 'first': 'Thomas', 'last': 'Harris', 'email': 'john96@example.org', 'age': 36, 'imageUrl': 'https://randomuser.me/api/portraits/men/40.jpg'}, {'id': 1020, 'first': 'Megan', 'last': 'Martinez', 'email': 'michellesmith@example.com', 'age': 44, 'imageUrl': 'https://randomuser.me/api/portraits/women/57.jpg'}, {'id': 1021, 'first': 'Sherri', 'last': 'Mullins', 'email': 'wongsteven@example.org', 'age': 26, 'imageUrl': 'https://randomuser.me/api/portraits/women/37.jpg'}, {'id': 1022, 'first': 'Jordan', 'last': 'Werner', 'email': 'odavis@example.org', 'age': 45, 'imageUrl': 'https://randomuser.me/api/portraits/men/30.jpg'}, {'id': 1023, 'first': 'Pamela', 'last': 'Anderson', 'email': 'vjohnson@example.org', 'age': 47, 'imageUrl': 'https://randomuser.me/api/portraits/women/18.jpg'}, {'id': 1024, 'first': 'Mary', 'last': 'Douglas', 'email': 'steven70@example.net', 'age': 23, 'imageUrl': 'https://randomuser.me/api/portraits/women/52.jpg'}, {'id': 1025, 'first': 'Scott', 'last': 'Bowman', 'email': 'thomasjeremy@example.org', 'age': 40, 'imageUrl': 'https://randomuser.me/api/portraits/men/43.jpg'}, {'id': 1026, 'first': 'William', 'last': 'Griffin', 'email': 'grossalicia@example.net', 'age': 41, 'imageUrl': 'https://randomuser.me/api/portraits/men/33.jpg'}, {'id': 1027, 'first': 'Craig', 'last': 'Clark', 'email': 'qcollins@example.com', 'age': 27, 'imageUrl': 'https://randomuser.me/api/portraits/men/9.jpg'}, {'id': 1028, 'first': 'Yvonne', 'last': 'Choi', 'email': 'brownmichelle@example.org', 'age': 32, 'imageUrl': 'https://randomuser.me/api/portraits/women/54.jpg'}, {'id': 1029, 'first': 'Caroline', 'last': 'Huffman', 'email': 'xrobinson@example.org', 'age': 40, 'imageUrl': 'https://randomuser.me/api/portraits/women/13.jpg'}, {'id': 1030, 'first': 'Jose', 'last': 'Morgan', 'email': 'williamsjeffery@example.net', 'age': 26, 'imageUrl': 'https://randomuser.me/api/portraits/men/37.jpg'}, {'id': 1031, 'first': 'Devin', 'last': 'Rodgers', 'email': 'calvinhutchinson@example.org', 'age': 36, 'imageUrl': 'https://randomuser.me/api/portraits/men/10.jpg'}, {'id': 1032, 'first': 'Ian', 'last': 'Williams', 'email': 'wallacemariah@example.com', 'age': 33, 'imageUrl': 'https://randomuser.me/api/portraits/men/38.jpg'}, {'id': 1033, 'first': 'Victoria', 'last': 'Hood', 'email': 'lloydjavier@example.net', 'age': 33, 'imageUrl': 'https://randomuser.me/api/portraits/women/15.jpg'}, {'id': 1034, 'first': 'Brandon', 'last': 'Clements', 'email': 'caitlin12@example.com', 'age': 20, 'imageUrl': 'https://randomuser.me/api/portraits/men/3.jpg'}, {'id': 1035, 'first': 'Rachel', 'last': 'Wilcox', 'email': 'sarahgordon@example.org', 'age': 36, 'imageUrl': 'https://randomuser.me/api/portraits/women/3.jpg'}, {'id': 1036, 'first': 'Wendy', 'last': 'Jackson', 'email': 'vthomas@example.org', 'age': 51, 'imageUrl': 'https://randomuser.me/api/portraits/women/17.jpg'}, {'id': 1037, 'first': 'Cathy', 'last': 'Torres', 'email': 'sabrinalopez@example.org', 'age': 43, 'imageUrl': 'https://randomuser.me/api/portraits/women/13.jpg'}, {'id': 1038, 'first': 'John', 'last': 'Ford', 'email': 'coreydavis@example.net', 'age': 30, 'imageUrl': 'https://randomuser.me/api/portraits/men/21.jpg'}, {'id': 1039, 'first': 'Samantha', 'last': 'Sims', 'email': 'willisdawn@example.net', 'age': 35, 'imageUrl': 'https://randomuser.me/api/portraits/women/3.jpg'}, {'id': 1040, 'first': 'Steven', 'last': 'Hodges', 'email': 'chelsea49@example.com', 'age': 36, 'imageUrl': 'https://randomuser.me/api/portraits/men/9.jpg'}, {'id': 1041, 'first': 'Frank', 'last': 'Bender', 'email': 'barnold@example.net', 'age': 50, 'imageUrl': 'https://randomuser.me/api/portraits/men/35.jpg'}, {'id': 1042, 'first': 'Diane', 'last': 'Weaver', 'email': 'ortizcarol@example.com', 'age': 21, 'imageUrl': 'https://randomuser.me/api/portraits/women/48.jpg'}, {'id': 1043, 'first': 'Crystal', 'last': 'Smith', 'email': 'briannabishop@example.com', 'age': 32, 'imageUrl': 'https://randomuser.me/api/portraits/women/65.jpg'}, {'id': 1044, 'first': 'Michael', 'last': 'Dunlap', 'email': 'plewis@example.org', 'age': 29, 'imageUrl': 'https://randomuser.me/api/portraits/men/36.jpg'}, {'id': 1045, 'first': 'Cheryl', 'last': 'Rodriguez', 'email': 'jenningsashley@example.net', 'age': 28, 'imageUrl': 'https://randomuser.me/api/portraits/women/74.jpg'}, {'id': 1046, 'first': 'Patricia', 'last': 'Mays', 'email': 'james85@example.org', 'age': 42, 'imageUrl': 'https://randomuser.me/api/portraits/women/71.jpg'}, {'id': 1047, 'first': 'Lee', 'last': 'Burns', 'email': 'joejohnson@example.com', 'age': 20, 'imageUrl': 'https://randomuser.me/api/portraits/men/41.jpg'}, {'id': 1048, 'first': 'Connor', 'last': 'Stewart', 'email': 'zsmith@example.com', 'age': 37, 'imageUrl': 'https://randomuser.me/api/portraits/men/27.jpg'}, {'id': 1049, 'first': 'Cory', 'last': 'Welch', 'email': 'juliaramirez@example.com', 'age': 51, 'imageUrl': 'https://randomuser.me/api/portraits/men/27.jpg'}, {'id': 1050, 'first': 'Christopher', 'last': 'Anderson', 'email': 'michelemiller@example.com', 'age': 39, 'imageUrl': 'https://randomuser.me/api/portraits/men/66.jpg'}, {'id': 1051, 'first': 'Brian', 'last': 'Baker', 'email': 'amandawest@example.org', 'age': 21, 'imageUrl': 'https://randomuser.me/api/portraits/men/46.jpg'}, {'id': 1052, 'first': 'Matthew', 'last': 'Owen', 'email': 'tglenn@example.com', 'age': 24, 'imageUrl': 'https://randomuser.me/api/portraits/men/50.jpg'}, {'id': 1053, 'first': 'Daniel', 'last': 'Short', 'email': 'carol93@example.com', 'age': 30, 'imageUrl': 'https://randomuser.me/api/portraits/men/25.jpg'}, {'id': 1054, 'first': 'Melissa', 'last': 'Jacobs', 'email': 'sshepherd@example.com', 'age': 39, 'imageUrl': 'https://randomuser.me/api/portraits/women/37.jpg'}, {'id': 1055, 'first': 'Caitlin', 'last': 'Brown', 'email': 'emilysmith@example.org', 'age': 49, 'imageUrl': 'https://randomuser.me/api/portraits/women/45.jpg'}, {'id': 1056, 'first': 'Lucas', 'last': 'Obrien', 'email': 'josborne@example.net', 'age': 26, 'imageUrl': 'https://randomuser.me/api/portraits/men/33.jpg'}, {'id': 1057, 'first': 'Brandon', 'last': 'Baker', 'email': 'crystalbartlett@example.net', 'age': 30, 'imageUrl': 'https://randomuser.me/api/portraits/men/8.jpg'}, {'id': 1058, 'first': 'Alexander', 'last': 'Villanueva', 'email': 'amanda18@example.com', 'age': 37, 'imageUrl': 'https://randomuser.me/api/portraits/men/65.jpg'}, {'id': 1059, 'first': 'Steve', 'last': 'Sanders', 'email': 'teresa45@example.org', 'age': 35, 'imageUrl': 'https://randomuser.me/api/portraits/men/2.jpg'}, {'id': 1060, 'first': 'Sara', 'last': 'Montes', 'email': 'sarah90@example.net', 'age': 37, 'imageUrl': 'https://randomuser.me/api/portraits/women/50.jpg'}, {'id': 1061, 'first': 'Lauren', 'last': 'Evans', 'email': 'fwalker@example.org', 'age': 33, 'imageUrl': 'https://randomuser.me/api/portraits/women/54.jpg'}, {'id': 1062, 'first': 'Patricia', 'last': 'Johnson', 'email': 'ashley17@example.org', 'age': 42, 'imageUrl': 'https://randomuser.me/api/portraits/women/44.jpg'}, {'id': 1063, 'first': 'Joshua', 'last': 'Robinson', 'email': 'rosemary@example.org', 'age': 42, 'imageUrl': 'https://randomuser.me/api/portraits/men/63.jpg'}, {'id': 1064, 'first': 'Michael', 'last': 'Martinez', 'email': 'gentrykenneth@example.org', 'age': 36, 'imageUrl': 'https://randomuser.me/api/portraits/men/26.jpg'}, {'id': 1065, 'first': 'Shelby', 'last': 'Davis', 'email': 'sellerscarrie@example.com', 'age': 39, 'imageUrl': 'https://randomuser.me/api/portraits/women/60.jpg'}, {'id': 1066, 'first': 'Angela', 'last': 'Garcia', 'email': 'garciakevin@example.org', 'age': 36, 'imageUrl': 'https://randomuser.me/api/portraits/women/39.jpg'}, {'id': 1067, 'first': 'Melissa', 'last': 'Jones', 'email': 'uwest@example.com', 'age': 25, 'imageUrl': 'https://randomuser.me/api/portraits/women/42.jpg'}, {'id': 1068, 'first': 'Tyler', 'last': 'Anthony', 'email': 'dianelynch@example.com', 'age': 37, 'imageUrl': 'https://randomuser.me/api/portraits/men/35.jpg'}, {'id': 1069, 'first': 'Maria', 'last': 'Williams', 'email': 'davissamantha@example.com', 'age': 32, 'imageUrl': 'https://randomuser.me/api/portraits/women/63.jpg'}, {'id': 1070, 'first': 'William', 'last': 'Washington', 'email': 'kevinwilliams@example.org', 'age': 43, 'imageUrl': 'https://randomuser.me/api/portraits/men/61.jpg'}, {'id': 1071, 'first': 'Yesenia', 'last': 'Walter', 'email': 'dakota93@example.com', 'age': 46, 'imageUrl': 'https://randomuser.me/api/portraits/women/21.jpg'}, {'id': 1072, 'first': 'Kristi', 'last': 'Obrien', 'email': 'seth33@example.com', 'age': 23, 'imageUrl': 'https://randomuser.me/api/portraits/women/26.jpg'}, {'id': 1073, 'first': 'Kenneth', 'last': 'Hinton', 'email': 'shirleyfriedman@example.net', 'age': 28, 'imageUrl': 'https://randomuser.me/api/portraits/men/12.jpg'}, {'id': 1074, 'first': 'Melanie', 'last': 'Rodgers', 'email': 'dorseymichael@example.com', 'age': 34, 'imageUrl': 'https://randomuser.me/api/portraits/women/68.jpg'}, {'id': 1075, 'first': 'Richard', 'last': 'Green', 'email': 'sean35@example.net', 'age': 24, 'imageUrl': 'https://randomuser.me/api/portraits/men/12.jpg'}, {'id': 1076, 'first': 'Gregory', 'last': 'Ross', 'email': 'sarahsaunders@example.net', 'age': 22, 'imageUrl': 'https://randomuser.me/api/portraits/men/72.jpg'}, {'id': 1077, 'first': 'Tammy', 'last': 'Martin', 'email': 'micheal14@example.net', 'age': 40, 'imageUrl': 'https://randomuser.me/api/portraits/women/50.jpg'}, {'id': 1078, 'first': 'Richard', 'last': 'Stein', 'email': 'kirstenhall@example.net', 'age': 48, 'imageUrl': 'https://randomuser.me/api/portraits/men/45.jpg'}, {'id': 1079, 'first': 'Brian', 'last': 'Lewis', 'email': 'thomas66@example.net', 'age': 39, 'imageUrl': 'https://randomuser.me/api/portraits/men/38.jpg'}, {'id': 1080, 'first': 'Adrian', 'last': 'Solis', 'email': 'timflores@example.com', 'age': 50, 'imageUrl': 'https://randomuser.me/api/portraits/men/11.jpg'}, {'id': 1081, 'first': 'Bradley', 'last': 'Lopez', 'email': 'madison35@example.com', 'age': 27, 'imageUrl': 'https://randomuser.me/api/portraits/men/49.jpg'}, {'id': 1082, 'first': 'Amanda', 'last': 'Macdonald', 'email': 'ruth78@example.com', 'age': 46, 'imageUrl': 'https://randomuser.me/api/portraits/women/1.jpg'}, {'id': 1083, 'first': 'Danny', 'last': 'Chase', 'email': 'amy48@example.net', 'age': 27, 'imageUrl': 'https://randomuser.me/api/portraits/men/39.jpg'}, {'id': 1084, 'first': 'David', 'last': 'Clark', 'email': 'madison54@example.org', 'age': 24, 'imageUrl': 'https://randomuser.me/api/portraits/men/43.jpg'}, {'id': 1085, 'first': 'Ashley', 'last': 'Moore', 'email': 'miguel09@example.org', 'age': 47, 'imageUrl': 'https://randomuser.me/api/portraits/women/41.jpg'}, {'id': 1086, 'first': 'Paul', 'last': 'Jones', 'email': 'ronald75@example.com', 'age': 39, 'imageUrl': 'https://randomuser.me/api/portraits/men/3.jpg'}, {'id': 1087, 'first': 'Donald', 'last': 'Bishop', 'email': 'shannonroberts@example.org', 'age': 23, 'imageUrl': 'https://randomuser.me/api/portraits/men/75.jpg'}, {'id': 1088, 'first': 'Ashlee', 'last': 'Russell', 'email': 'kristin96@example.com', 'age': 35, 'imageUrl': 'https://randomuser.me/api/portraits/women/46.jpg'}, {'id': 1089, 'first': 'Kimberly', 'last': 'Thompson', 'email': 'karenmaxwell@example.org', 'age': 44, 'imageUrl': 'https://randomuser.me/api/portraits/women/27.jpg'}, {'id': 1090, 'first': 'Brandon', 'last': 'Barker', 'email': 'elizabethreese@example.net', 'age': 27, 'imageUrl': 'https://randomuser.me/api/portraits/men/11.jpg'}, {'id': 1091, 'first': 'Daniel', 'last': 'Williams', 'email': 'matathomas@example.net', 'age': 45, 'imageUrl': 'https://randomuser.me/api/portraits/men/27.jpg'}, {'id': 1092, 'first': 'Timothy', 'last': 'Martinez', 'email': 'natkins@example.com', 'age': 37, 'imageUrl': 'https://randomuser.me/api/portraits/men/11.jpg'}, {'id': 1093, 'first': 'Denise', 'last': 'Garcia', 'email': 'marissa81@example.org', 'age': 40, 'imageUrl': 'https://randomuser.me/api/portraits/women/35.jpg'}, {'id': 1094, 'first': 'Emily', 'last': 'Perez', 'email': 'jonathan02@example.org', 'age': 41, 'imageUrl': 'https://randomuser.me/api/portraits/women/3.jpg'}, {'id': 1095, 'first': 'Hayley', 'last': 'Richardson', 'email': 'nicole79@example.org', 'age': 21, 'imageUrl': 'https://randomuser.me/api/portraits/women/66.jpg'}, {'id': 1096, 'first': 'Mary', 'last': 'Sanders', 'email': 'kristinavilla@example.org', 'age': 27, 'imageUrl': 'https://randomuser.me/api/portraits/women/75.jpg'}, {'id': 1097, 'first': 'Marie', 'last': 'Clark', 'email': 'lweaver@example.com', 'age': 22, 'imageUrl': 'https://randomuser.me/api/portraits/women/54.jpg'}, {'id': 1098, 'first': 'Aaron', 'last': 'Hall', 'email': 'stephanie26@example.com', 'age': 46, 'imageUrl': 'https://randomuser.me/api/portraits/men/40.jpg'}, {'id': 1099, 'first': 'Ashley', 'last': 'Wilson', 'email': 'matthewbowman@example.net', 'age': 21, 'imageUrl': 'https://randomuser.me/api/portraits/women/60.jpg'}]\n"
     ]
    }
   ],
   "source": [
    "random_people = []\n",
    "for i in range(100):\n",
    "    is_male = random.choice([True,False])\n",
    "    img_number = random.randint(1, 75)\n",
    "    random_person = {\n",
    "        'id': starting_id + i,\n",
    "        'first': faker.first_name_male() if is_male else faker.first_name_female(),\n",
    "        'last': faker.last_name(),\n",
    "        'email': faker.email(),\n",
    "        'age': datetime.now().year - faker.date_of_birth(minimum_age=20, maximum_age=50).year,\n",
    "        'imageUrl': f'https://randomuser.me/api/portraits/{\"men\" if is_male else \"women\"}/{img_number}.jpg'\n",
    "    }\n",
    "    random_people.append(random_person)\n",
    "\n",
    "# print([p for p in random_people])"
   ]
  },
  {
   "cell_type": "code",
   "execution_count": 54,
   "metadata": {},
   "outputs": [],
   "source": [
    "file_name = 'people.json'\n",
    "with open(file_name, 'w') as fout:\n",
    "    fout.write(json.dumps(random_people, indent=2))"
   ]
  },
  {
   "cell_type": "code",
   "execution_count": null,
   "metadata": {},
   "outputs": [],
   "source": []
  }
 ],
 "metadata": {
  "kernelspec": {
   "display_name": "base",
   "language": "python",
   "name": "python3"
  },
  "language_info": {
   "codemirror_mode": {
    "name": "ipython",
    "version": 3
   },
   "file_extension": ".py",
   "mimetype": "text/x-python",
   "name": "python",
   "nbconvert_exporter": "python",
   "pygments_lexer": "ipython3",
   "version": "3.11.8"
  }
 },
 "nbformat": 4,
 "nbformat_minor": 2
}
